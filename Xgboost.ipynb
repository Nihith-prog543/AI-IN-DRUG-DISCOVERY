{
  "nbformat": 4,
  "nbformat_minor": 0,
  "metadata": {
    "colab": {
      "provenance": [],
      "toc_visible": true
    },
    "kernelspec": {
      "name": "python3",
      "display_name": "Python 3"
    },
    "language_info": {
      "name": "python"
    }
  },
  "cells": [
    {
      "cell_type": "code",
      "execution_count": 2,
      "metadata": {
        "colab": {
          "base_uri": "https://localhost:8080/"
        },
        "id": "SqrMrlOHLLtY",
        "outputId": "193a6831-0266-4536-bacb-2ef12fe9d6a9"
      },
      "outputs": [
        {
          "output_type": "stream",
          "name": "stdout",
          "text": [
            "Collecting rdkit-pypi\n",
            "  Downloading rdkit_pypi-2022.9.5-cp310-cp310-manylinux_2_17_x86_64.manylinux2014_x86_64.whl.metadata (3.9 kB)\n",
            "Requirement already satisfied: xgboost in /usr/local/lib/python3.10/dist-packages (2.1.3)\n",
            "Requirement already satisfied: scikit-learn in /usr/local/lib/python3.10/dist-packages (1.6.0)\n",
            "Requirement already satisfied: pandas in /usr/local/lib/python3.10/dist-packages (2.2.2)\n",
            "Requirement already satisfied: numpy in /usr/local/lib/python3.10/dist-packages (1.26.4)\n",
            "Requirement already satisfied: Pillow in /usr/local/lib/python3.10/dist-packages (from rdkit-pypi) (11.0.0)\n",
            "Requirement already satisfied: nvidia-nccl-cu12 in /usr/local/lib/python3.10/dist-packages (from xgboost) (2.23.4)\n",
            "Requirement already satisfied: scipy in /usr/local/lib/python3.10/dist-packages (from xgboost) (1.13.1)\n",
            "Requirement already satisfied: joblib>=1.2.0 in /usr/local/lib/python3.10/dist-packages (from scikit-learn) (1.4.2)\n",
            "Requirement already satisfied: threadpoolctl>=3.1.0 in /usr/local/lib/python3.10/dist-packages (from scikit-learn) (3.5.0)\n",
            "Requirement already satisfied: python-dateutil>=2.8.2 in /usr/local/lib/python3.10/dist-packages (from pandas) (2.8.2)\n",
            "Requirement already satisfied: pytz>=2020.1 in /usr/local/lib/python3.10/dist-packages (from pandas) (2024.2)\n",
            "Requirement already satisfied: tzdata>=2022.7 in /usr/local/lib/python3.10/dist-packages (from pandas) (2024.2)\n",
            "Requirement already satisfied: six>=1.5 in /usr/local/lib/python3.10/dist-packages (from python-dateutil>=2.8.2->pandas) (1.17.0)\n",
            "Downloading rdkit_pypi-2022.9.5-cp310-cp310-manylinux_2_17_x86_64.manylinux2014_x86_64.whl (29.4 MB)\n",
            "\u001b[2K   \u001b[90m━━━━━━━━━━━━━━━━━━━━━━━━━━━━━━━━━━━━━━━━\u001b[0m \u001b[32m29.4/29.4 MB\u001b[0m \u001b[31m53.3 MB/s\u001b[0m eta \u001b[36m0:00:00\u001b[0m\n",
            "\u001b[?25hInstalling collected packages: rdkit-pypi\n",
            "Successfully installed rdkit-pypi-2022.9.5\n"
          ]
        }
      ],
      "source": [
        "!pip install rdkit-pypi xgboost scikit-learn pandas numpy"
      ]
    },
    {
      "cell_type": "code",
      "source": [
        "import pandas as pd\n",
        "from sklearn.model_selection import train_test_split\n",
        "from sklearn.metrics import classification_report, confusion_matrix\n",
        "from sklearn.preprocessing import LabelEncoder\n",
        "from sklearn.utils import resample\n",
        "from xgboost import XGBClassifier\n",
        "import seaborn as sns\n",
        "import matplotlib.pyplot as plt\n",
        "\n",
        "# Load the dataset\n",
        "file_path = '/content/clintox2 1.csv'\n",
        "data = pd.read_csv(file_path)\n",
        "\n",
        "# Display class imbalance\n",
        "print(\"Class distribution in FDA_APPROVED and CT_TOX combined:\")\n",
        "print(data[['FDA_APPROVED', 'CT_TOX']].value_counts())\n",
        "\n",
        "# Handling SMILES column (Feature Extraction Placeholder)\n",
        "label_encoder = LabelEncoder()\n",
        "data['smiles_encoded'] = label_encoder.fit_transform(data['smiles'])\n",
        "\n",
        "# Combine the two target variables into a single multilevel target\n",
        "data['combined_target'] = data['FDA_APPROVED'].astype(str) + \"_\" + data['CT_TOX'].astype(str)\n",
        "\n",
        "# Encode the multilevel target\n",
        "multilevel_encoder = LabelEncoder()\n",
        "data['multilevel_encoded'] = multilevel_encoder.fit_transform(data['combined_target'])\n",
        "\n",
        "# Handle class imbalance for the combined target\n",
        "classes = data['multilevel_encoded'].unique()\n",
        "balanced_data = []\n",
        "\n",
        "for cls in classes:\n",
        "    class_data = data[data['multilevel_encoded'] == cls]\n",
        "    if len(class_data) < data['multilevel_encoded'].value_counts().max():\n",
        "        class_data = resample(class_data, replace=True, n_samples=data['multilevel_encoded'].value_counts().max(), random_state=42)\n",
        "    balanced_data.append(class_data)\n",
        "\n",
        "balanced_data = pd.concat(balanced_data)\n",
        "\n",
        "# Define features and combined target\n",
        "X = balanced_data[['smiles_encoded']]\n",
        "y = balanced_data['multilevel_encoded']\n",
        "\n",
        "# Split data into training and testing sets\n",
        "X_train, X_test, y_train, y_test = train_test_split(X, y, test_size=0.2, random_state=42)\n",
        "\n",
        "# Initialize XGBoost classifier\n",
        "xgboost = XGBClassifier(n_estimators=100, random_state=42, use_label_encoder=False, eval_metric='logloss')\n",
        "\n",
        "# Train the model\n",
        "xgboost.fit(X_train, y_train)\n",
        "\n",
        "# Make predictions\n",
        "y_pred = xgboost.predict(X_test)\n",
        "\n",
        "# Decode predictions and true labels into original targets\n",
        "y_test_decoded = multilevel_encoder.inverse_transform(y_test)\n",
        "y_pred_decoded = multilevel_encoder.inverse_transform(y_pred)\n",
        "\n",
        "# Evaluate the model\n",
        "print(\"Combined Multilevel Confusion Matrix:\")\n",
        "cm = confusion_matrix(y_test_decoded, y_pred_decoded, labels=multilevel_encoder.classes_)\n",
        "print(cm)\n",
        "\n",
        "print(\"Combined Multilevel Classification Report:\")\n",
        "print(classification_report(y_test_decoded, y_pred_decoded, target_names=multilevel_encoder.classes_))\n",
        "\n",
        "# Plot heatmap for confusion matrix\n",
        "plt.figure(figsize=(10, 7))\n",
        "sns.heatmap(cm, annot=True, fmt='d', cmap='Blues', xticklabels=multilevel_encoder.classes_, yticklabels=multilevel_encoder.classes_)\n",
        "plt.title(\"Multilevel Confusion Matrix\")\n",
        "plt.xlabel(\"Predicted\")\n",
        "plt.ylabel(\"Actual\")\n",
        "plt.show()\n"
      ],
      "metadata": {
        "colab": {
          "base_uri": "https://localhost:8080/",
          "height": 983
        },
        "id": "TRzVdrHHNYzs",
        "outputId": "bba8eff6-5802-4669-e810-e3ea945838e9"
      },
      "execution_count": 10,
      "outputs": [
        {
          "output_type": "stream",
          "name": "stdout",
          "text": [
            "Class distribution in FDA_APPROVED and CT_TOX combined:\n",
            "FDA_APPROVED  CT_TOX\n",
            "1             0         1366\n",
            "0             1           80\n",
            "1             1           18\n",
            "Name: count, dtype: int64\n"
          ]
        },
        {
          "output_type": "stream",
          "name": "stderr",
          "text": [
            "/usr/local/lib/python3.10/dist-packages/xgboost/core.py:158: UserWarning: [19:35:08] WARNING: /workspace/src/learner.cc:740: \n",
            "Parameters: { \"use_label_encoder\" } are not used.\n",
            "\n",
            "  warnings.warn(smsg, UserWarning)\n"
          ]
        },
        {
          "output_type": "stream",
          "name": "stdout",
          "text": [
            "Combined Multilevel Confusion Matrix:\n",
            "[[267   4   0]\n",
            " [ 63 234   8]\n",
            " [  0   0 244]]\n",
            "Combined Multilevel Classification Report:\n",
            "              precision    recall  f1-score   support\n",
            "\n",
            "         0_1       0.81      0.99      0.89       271\n",
            "         1_0       0.98      0.77      0.86       305\n",
            "         1_1       0.97      1.00      0.98       244\n",
            "\n",
            "    accuracy                           0.91       820\n",
            "   macro avg       0.92      0.92      0.91       820\n",
            "weighted avg       0.92      0.91      0.91       820\n",
            "\n"
          ]
        },
        {
          "output_type": "display_data",
          "data": {
            "text/plain": [
              "<Figure size 1000x700 with 2 Axes>"
            ],
            "image/png": "[encoded data removed]"
          },
          "metadata": {}
        }
      ]
    },
    {
      "cell_type": "code",
      "source": [],
      "metadata": {
        "id": "xq-l1MmJOnfH"
      },
      "execution_count": null,
      "outputs": []
    }
  ]
}